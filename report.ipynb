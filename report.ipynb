{
 "cells": [
  {
   "cell_type": "markdown",
   "metadata": {},
   "source": [
    "# 报告\n",
    "## 一、爬虫部分（以Chrome版为例）\n",
    "### （一）代码思路\n",
    "（1）调用selenium库中的webdriver包，访问网站，获取网页源代码；\n",
    "\n",
    "（2）使用BeautifulSoup包和正则表达式对源代码字符串进行处理；\n",
    "\n",
    "（3）将处理后的字符串转换为Dataframe对象，利用pandas库将其写入.csv文件"
   ]
  },
  {
   "cell_type": "code",
   "execution_count": 5,
   "metadata": {},
   "outputs": [
    {
     "name": "stdout",
     "output_type": "stream",
     "text": [
      "总执行页数为： 100\n"
     ]
    }
   ],
   "source": [
    "from bs4 import BeautifulSoup\n",
    "import re \n",
    "import urllib\n",
    "import pandas as pd\n",
    "import time\n",
    "import random\n",
    "from selenium import webdriver\n",
    "\n",
    "def main():\n",
    "     baseurl = \"https://www.che168.com/beijing/list/\"\n",
    "     datalist = getData(baseurl)\n",
    "     saveData(datalist,\"car_message.csv\")\n",
    "\n",
    "def getData(baseurl):\n",
    "\n",
    "    Findcardname = re.compile(r'<h4 class=\"card-name\">(.*?)</h4>',re.S)\n",
    "    Findcardsunit = re.compile(r'<p class=\"cards-unit\">(.*?)</p>',re.S)\n",
    "    Findpirce = re.compile(r'<em>(.*?)</em>',re.S)\n",
    "    FindFpirce = re.compile(r'<s>(.*?)万</s>',re.S)\n",
    "\n",
    "    count = 0\n",
    "    datalist = []\n",
    "    driver = webdriver.Chrome()\n",
    "    for i in range(1,101):#共100页\n",
    "        time.sleep(Random())\n",
    "        url = f\"{baseurl}a0_0msdgscncgpi1ltocsp2exx0{i}exx0/?pvareaid=102179#currengpostion\"#实现翻页操作\n",
    "        html = askURL(driver,url)\n",
    "        #获取网页源代码\n",
    "        soup = BeautifulSoup(html,\"html.parser\")\n",
    "        #使用\"hyml.parser\"解析器解析储存网页源代码的字符串\n",
    "        count += 1\n",
    "        for item in soup.find_all('div',class_=\"cards-bottom\"):\n",
    "            #查找<div>标签，其必须具有一个名为\"cards-bottom\"的属性；返回具有该属性的beautifulsoup对象\n",
    "            #time.sleep(Random())\n",
    "            data = []\n",
    "            item = str(item)\n",
    "            #将item从Beautifulsoup类型转换为str类型\n",
    "\n",
    "            cardname = re.findall(Findcardname,item)\n",
    "            if cardname:\n",
    "                cardname = re.findall(Findcardname,item)[0].strip()\n",
    "                #在返回的列表中取第一个元素，并使用strip()函数去除其两侧的空白字符\n",
    "                if \"<i class=\\\"tp-tags cxc-tip\\\"></i>\" in cardname:\n",
    "                    Cardname = cardname.replace(\"<i class=\\\"tp-tags cxc-tip\\\"></i>\",\"\")                     #将可能出现的\"<i class=\\\"tp-tags cxc-tip\\\"></i>\"剔除\n",
    "                else:\n",
    "                    Cardname = cardname.replace(\"\\n\",\"\")\n",
    "                data.append(Cardname)\n",
    "            else:\n",
    "                data.append(\"N/A\")\n",
    "            #寻找汽车名称信息\n",
    "\n",
    "            cardsunit = re.findall(Findcardsunit,item)\n",
    "            if cardsunit:\n",
    "                cardsunit = re.findall(Findcardsunit,item)[0].strip()\n",
    "                Cardsunit = cardsunit.replace(\"\\n\",\"\")\n",
    "                miles = re.findall(r'(.*?)万公里',Cardsunit)\n",
    "                dates = re.findall(r'／(.*?)／北京',Cardsunit)\n",
    "                data.append(miles[0] if miles else \"N/A\")\n",
    "                data.append(dates[0] if dates else \"N/A\")\n",
    "            else:\n",
    "                data.append(\"N/A\")              \n",
    "\n",
    "            pirce = re.findall(Findpirce,item)\n",
    "            if pirce:\n",
    "                pirce = re.findall(Findpirce,item)[0].strip()\n",
    "                Pirce = pirce.replace(\"\\n\",\"\")\n",
    "                data.append(Pirce)\n",
    "            else:\n",
    "                data.append(\"N/A\")\n",
    "\n",
    "            Fpirce = re.findall(FindFpirce,item)\n",
    "            if Fpirce:\n",
    "                Fpirce = re.findall(FindFpirce,item)[0].strip()\n",
    "                data.append(Fpirce)\n",
    "            else:\n",
    "                data.append(\"N/A\")\n",
    "            datalist.append(data)\n",
    "    print(\"总执行页数为：\",count)\n",
    "    return datalist\n",
    "\n",
    "def Random():\n",
    "    random_number = random.uniform(1.0, 1.5)\n",
    "    return random_number\n",
    "\n",
    "#打开目标网页，获取网页源代码，存入html并返回\n",
    "def askURL(driver,url):\n",
    "    driver.get(url)\n",
    "    html = driver.page_source\n",
    "    return html\n",
    "\n",
    "\n",
    "def saveData(datalist, savepath):\n",
    "    col = [\"汽车型号\", \"公里数\", \"上牌日期\", \"报价\", \"新车含税价\"]\n",
    "    df = pd.DataFrame(datalist, columns=col)\n",
    "    df.to_csv(savepath, index=False, encoding=\"utf-8-sig\")\n",
    "\n",
    "if __name__ == \"__main__\":\n",
    "    main()"
   ]
  },
  {
   "cell_type": "markdown",
   "metadata": {},
   "source": [
    "### （二）代码解读\n",
    "#### （1）获取网页源代码"
   ]
  },
  {
   "cell_type": "code",
   "execution_count": 6,
   "metadata": {},
   "outputs": [
    {
     "name": "stdout",
     "output_type": "stream",
     "text": [
      "<class 'str'>\n"
     ]
    }
   ],
   "source": [
    "from selenium import webdriver\n",
    "\n",
    "baseurl = \"https://www.che168.com/beijing/list/\"#该语句位于 def main() 函数中\n",
    "driver = webdriver.Chrome()#为减少浏览器打开次数，此语句位于 def getData() 函数中\n",
    "\n",
    "def askURL(driver,url):\n",
    "    driver.get(url)\n",
    "    html = driver.page_source\n",
    "    return html#将获取的网页源代码以字符串形式返回\n",
    "\n",
    "\n",
    "print(type(askURL(driver,baseurl)))\n"
   ]
  },
  {
   "cell_type": "markdown",
   "metadata": {},
   "source": [
    "#### （2）解析网页源代码"
   ]
  },
  {
   "cell_type": "markdown",
   "metadata": {},
   "source": [
    "1. 创建标准正则表达式\n",
    "\n",
    "2. 调用两层for循环：第一层为 \"for i in range(1,101)\" ，获取每一页的源代码；第二层为 \"for item in soup.find_all('div',class_=\"cards-bottom\"),查找符合条件的BeautifulSoup对象，并进行字符串处理，将结果储存在列表中\n",
    "\n",
    "3. 第一层for循环的重点在于实现“翻页”操作。此外还使用随机time.sleep()应对网站反爬机制；循环每执行一次是一页\n",
    "\n",
    "4. 在第二层for循环中，对于每个标准正则表达式对应的对象，用一层if else判断该对象是否为空，如果为空则赋“N/A\";循环每执行一次是一辆车\n"
   ]
  },
  {
   "cell_type": "markdown",
   "metadata": {},
   "source": [
    "##### 创建标准正则表达式"
   ]
  },
  {
   "cell_type": "code",
   "execution_count": null,
   "metadata": {},
   "outputs": [],
   "source": [
    "\n",
    "import re \n",
    "\n",
    "Findcardname = re.compile(r'<h4 class=\"card-name\">(.*?)</h4>',re.S)\n",
    "Findcardsunit = re.compile(r'<p class=\"cards-unit\">(.*?)</p>',re.S)\n",
    "Findpirce = re.compile(r'<em>(.*?)</em>',re.S)\n",
    "FindFpirce = re.compile(r'<s>(.*?)万</s>',re.S)\n",
    "#创建四个标准正则表达式，分别对应列索引：“汽车型号”，“公里数+上牌日期”，“报价”，“新车含税价”"
   ]
  },
  {
   "cell_type": "markdown",
   "metadata": {},
   "source": [
    "##### 随机化的 time.sleep()"
   ]
  },
  {
   "cell_type": "code",
   "execution_count": null,
   "metadata": {},
   "outputs": [],
   "source": [
    "import time\n",
    "import random\n",
    "\n",
    "def Random():\n",
    "    random_number = random.uniform(1.0,1.5)\n",
    "    return random_number\n",
    "\n",
    "time.sleep(Random())#第一层for循环中的调用"
   ]
  },
  {
   "cell_type": "markdown",
   "metadata": {},
   "source": [
    "##### 实现“翻页”操作，获取每页的源代码"
   ]
  },
  {
   "cell_type": "code",
   "execution_count": null,
   "metadata": {},
   "outputs": [],
   "source": [
    "from bs4 import BeautifulSoup\n",
    "from selenium import webdriver\n",
    "\n",
    "\n",
    "for i in range(1,101):\n",
    "\n",
    "    baseurl = \"https://www.che168.com/beijing/list/\"#此语句位于main()函数\n",
    "\n",
    "    time.sleep(Random())\n",
    "    url = f\"{baseurl}a0_0msdgscncgpi1ltocsp2exx0{i}exx0/?pvareaid=102179#currengpostion\"#实现翻页操作\n",
    "    html = askURL(driver,url)\n",
    "    soup = BeautifulSoup(html,\"html.parser\")"
   ]
  },
  {
   "cell_type": "markdown",
   "metadata": {},
   "source": [
    "##### 第二层for循环，查找符合条件的Beautifulsoup类型"
   ]
  },
  {
   "cell_type": "code",
   "execution_count": null,
   "metadata": {},
   "outputs": [],
   "source": [
    "\n",
    "for item in soup.find_all('div',class_=\"cards-bottom\"):\n",
    "#查找<div>标签，其必须具有一个名为\"cards-bottom\"的属性；返回具有该属性的beautifulsoup对象\n",
    "    data = []\n",
    "    item = str(item)##将item从Beautifulsoup类型转换为str类型"
   ]
  },
  {
   "cell_type": "markdown",
   "metadata": {},
   "source": [
    "##### 在第二层for循环内部寻找车辆名称信息"
   ]
  },
  {
   "cell_type": "markdown",
   "metadata": {},
   "source": [
    "观察网页源代码可知，部分\"card-name\"包含干扰字符串\"<i class=\\\"tp-tags cxc-tip\\\"></i>\"，需要调用replace()将其置空"
   ]
  },
  {
   "cell_type": "code",
   "execution_count": null,
   "metadata": {},
   "outputs": [],
   "source": [
    "cardname = re.findall(Findcardname,item)\n",
    "if cardname:\n",
    "    cardname = re.findall(Findcardname,item)[0].strip()\n",
    "    #在返回的列表中取第一个元素，并使用strip()函数去除其两侧的空白字符\n",
    "    if \"<i class=\\\"tp-tags cxc-tip\\\"></i>\" in cardname:\n",
    "        Cardname = cardname.replace(\"<i class=\\\"tp-tags cxc-tip\\\"></i>\",\"\")                     #将可能出现的\"<i class=\\\"tp-tags cxc-tip\\\"></i>\"剔除\n",
    "    else:\n",
    "        Cardname = cardname.replace(\"\\n\",\"\")\n",
    "        data.append(Cardname)\n",
    "else:\n",
    "    data.append(\"N/A\")"
   ]
  },
  {
   "cell_type": "markdown",
   "metadata": {},
   "source": [
    "##### 在第二层for循环内寻找公里数和上牌日期"
   ]
  },
  {
   "cell_type": "code",
   "execution_count": null,
   "metadata": {},
   "outputs": [],
   "source": [
    "cardsunit = re.findall(Findcardsunit,item)\n",
    "if cardsunit:\n",
    "    cardsunit = re.findall(Findcardsunit,item)[0].strip()\n",
    "    Cardsunit = cardsunit.replace(\"\\n\",\"\")\n",
    "    miles = re.findall(r'(.*?)万公里',Cardsunit)\n",
    "    dates = re.findall(r'／(.*?)／北京',Cardsunit)\n",
    "    data.append(miles[0] if miles else \"N/A\")\n",
    "    data.append(dates[0] if dates else \"N/A\")\n",
    "else:\n",
    "    data.append(\"N/A\")  "
   ]
  },
  {
   "cell_type": "markdown",
   "metadata": {},
   "source": [
    "##### 在第二层for循环内寻找报价和新车含税价"
   ]
  },
  {
   "cell_type": "markdown",
   "metadata": {},
   "source": [
    "网页源代码中含有较多的换行符和退格符，需要调用replace()函数将其置空"
   ]
  },
  {
   "cell_type": "code",
   "execution_count": null,
   "metadata": {},
   "outputs": [],
   "source": [
    "pirce = re.findall(Findpirce,item)\n",
    "if pirce:\n",
    "    pirce = re.findall(Findpirce,item)[0].strip()\n",
    "    Pirce = pirce.replace(\"\\n\",\"\")\n",
    "    data.append(Pirce)\n",
    "else:\n",
    "    data.append(\"N/A\")\n",
    "\n",
    "Fpirce = re.findall(FindFpirce,item)\n",
    "if Fpirce:\n",
    "    Fpirce = re.findall(FindFpirce,item)[0].strip()\n",
    "    data.append(Fpirce)\n",
    "else:\n",
    "    data.append(\"N/A\")"
   ]
  },
  {
   "cell_type": "markdown",
   "metadata": {},
   "source": [
    "**在第一层for循环外，提前创建空列表datalist;在第二层for循环内开始，创建空列表data，在结束时将data赋给datalist;即每辆车对应一个data。**"
   ]
  },
  {
   "cell_type": "markdown",
   "metadata": {},
   "source": [
    "#### （3）储存到.csv文件"
   ]
  },
  {
   "cell_type": "code",
   "execution_count": null,
   "metadata": {},
   "outputs": [],
   "source": [
    "import pandas as pd\n",
    "\n",
    "def saveData(datalist,savepath):\n",
    "    col = [\"汽车型号\", \"公里数\", \"上牌日期\", \"报价\", \"新车含税价\"]\n",
    "    df = pd.DataFrame(datalist, columns=col)\n",
    "    df.to_csv(savepath, index=False, encoding=\"utf-8-sig\")\n",
    "\n",
    "'''\n",
    "datalist = getData(baseurl)\n",
    "saveData(datalist,\"car_message.csv\")\n",
    "'''\n",
    "\n"
   ]
  },
  {
   "cell_type": "markdown",
   "metadata": {},
   "source": [
    "## 二、数据可视化\n",
    "在这一部分中，主要调用pandas库和matplotlib库。其中，从pandas库中调用read_csv()函数，将.csv文件读取为dataframe数据类型。再调用matplotlib库进行绘图操作。\n",
    "\n",
    "（1）绘制柱状图：横坐标为上牌年份（包括“未上牌”），纵坐标为数量\n",
    "\n",
    "（2）绘制圆饼图：不同报价的在售汽车数量分布\n",
    "\n",
    "（3）绘制箱线图：横坐标为序号，代表的含义与柱状图相同；纵坐标为数量。共有两个图，一张包含报价低于百万的汽车，另一张只有售价高于百万的汽车。"
   ]
  },
  {
   "cell_type": "markdown",
   "metadata": {},
   "source": [
    "### （一）绘制柱状图"
   ]
  },
  {
   "cell_type": "markdown",
   "metadata": {},
   "source": [
    "-主要难点在于特殊值 '未上牌' 的处理。先将其置零，再赋一个特殊的日期：'1990-1'。这个特殊值刚好比有效值中的最小年份小一年，这样在使用bins利用年份对其分割时方便了许多。"
   ]
  },
  {
   "cell_type": "code",
   "execution_count": 7,
   "metadata": {},
   "outputs": [
    {
     "name": "stdout",
     "output_type": "stream",
     "text": [
      "--------- 1990-01-01 00:00:00\n",
      "日期区间\n",
      "1990-01-01     98\n",
      "1991-01-01      1\n",
      "1992-01-01      2\n",
      "1993-01-01      2\n",
      "1994-01-01      1\n",
      "1995-01-01      1\n",
      "1996-01-01      1\n",
      "1997-01-01      0\n",
      "1998-01-01      2\n",
      "1999-01-01      2\n",
      "2000-01-01      0\n",
      "2001-01-01      1\n",
      "2002-01-01      6\n",
      "2003-01-01      7\n",
      "2004-01-01     10\n",
      "2005-01-01      7\n",
      "2006-01-01     10\n",
      "2007-01-01     31\n",
      "2008-01-01     39\n",
      "2009-01-01     42\n",
      "2010-01-01     95\n",
      "2011-01-01     81\n",
      "2012-01-01    128\n",
      "2013-01-01    200\n",
      "2014-01-01    263\n",
      "2015-01-01    287\n",
      "2016-01-01    351\n",
      "2017-01-01    433\n",
      "2018-01-01    517\n",
      "2019-01-01    562\n",
      "2020-01-01    384\n",
      "2021-01-01    500\n",
      "2022-01-01    491\n",
      "2023-01-01    581\n",
      "2024-01-01    222\n",
      "dtype: int64\n"
     ]
    },
    {
     "name": "stderr",
     "output_type": "stream",
     "text": [
      "C:\\Users\\86187\\AppData\\Local\\Temp\\ipykernel_17616\\791238574.py:10: FutureWarning: A value is trying to be set on a copy of a DataFrame or Series through chained assignment using an inplace method.\n",
      "The behavior will change in pandas 3.0. This inplace method will never work because the intermediate object on which we are setting values always behaves as a copy.\n",
      "\n",
      "For example, when doing 'df[col].method(value, inplace=True)', try using 'df.method({col: value}, inplace=True)' or df[col] = df[col].method(value) instead, to perform the operation inplace on the original object.\n",
      "\n",
      "\n",
      "  df['上牌日期'].fillna(pd.to_datetime('1990-01', format='%Y-%m'), inplace=True)\n",
      "C:\\Users\\86187\\AppData\\Local\\Temp\\ipykernel_17616\\791238574.py:18: FutureWarning: The default of observed=False is deprecated and will be changed to True in a future version of pandas. Pass observed=False to retain current behavior or observed=True to adopt the future default and silence this warning.\n",
      "  grouped = df.groupby('日期区间').size()\n"
     ]
    },
    {
     "data": {
      "text/plain": [
       "<Figure size 640x480 with 0 Axes>"
      ]
     },
     "metadata": {},
     "output_type": "display_data"
    },
    {
     "data": {
      "image/png": "[encoded data removed]",
      "text/plain": [
       "<Figure size 700x500 with 1 Axes>"
      ]
     },
     "metadata": {},
     "output_type": "display_data"
    }
   ],
   "source": [
    "# -*- coding: utf-8 -*-\n",
    "\n",
    "import pandas as pd\n",
    "import matplotlib.pyplot as plt\n",
    "from matplotlib import rcParams\n",
    "\n",
    "df = pd.read_csv(\"car_message.csv\", encoding=\"utf-8\")\n",
    "\n",
    "df['上牌日期'] = df['上牌日期'].replace('未上牌', pd.NaT)\n",
    "df['上牌日期'].fillna(pd.to_datetime('1990-01', format='%Y-%m'), inplace=True)\n",
    "df['上牌日期'] = pd.to_datetime(df['上牌日期'], format='%Y-%m')\n",
    "\n",
    "bins = pd.date_range(start=df['上牌日期'].min(), end='2025-01-01 00:00:00', freq='YS')\n",
    "print(\"---------\",df['上牌日期'].min())\n",
    "labels = pd.date_range(start=df['上牌日期'].min(), periods=len(bins)-1,freq='YS')\n",
    "\n",
    "df['日期区间'] = pd.cut(df['上牌日期'], bins=bins, labels=labels, right=False)\n",
    "grouped = df.groupby('日期区间').size()\n",
    "print(grouped)\n",
    "\n",
    "#以下绘制柱状图\n",
    "rcParams['font.sans-serif'] = ['SimHei']\n",
    "x = ['未上牌','1991','1992','1993','1994','1995','1996','1997','1998','1999',\n",
    "     '2000','2001','2002','2003','2004','2005','2006','2007','2008','2009','2010',\n",
    "     '2011','2012','2013','2014','2015','2016','2017','2018','2019','2020','2021',\n",
    "     '2022','2023','2024']\n",
    "y = grouped.values\n",
    "plt.figure(450)\n",
    "plt.figure(figsize=(7,5))\n",
    "plt.title('上牌年份')\n",
    "plt.bar(x,y,color='#ff0000')\n",
    "plt.xticks(fontsize=5)\n",
    "for i, v in enumerate(y):\n",
    "    plt.text(i, v + 0.2, str(v), ha='center', va='bottom', fontsize=10)\n",
    "plt.savefig('bar.png')\n",
    "plt.show()\n"
   ]
  },
  {
   "cell_type": "markdown",
   "metadata": {},
   "source": [
    "### （二）绘制箱线图"
   ]
  },
  {
   "cell_type": "markdown",
   "metadata": {},
   "source": [
    "重点有二：如何处理空值；如何对数据进行分类"
   ]
  },
  {
   "cell_type": "code",
   "execution_count": 8,
   "metadata": {},
   "outputs": [
    {
     "name": "stdout",
     "output_type": "stream",
     "text": [
      "------------------- <class 'pandas.core.frame.DataFrame'>\n",
      "Arr01 contains 1022 items\n",
      "Arr02 contains 1337 items\n",
      "Arr03 contains 915 items\n",
      "Arr04 contains 801 items\n",
      "Arr05 contains 750 items\n",
      "Arr06 contains 506 items\n"
     ]
    },
    {
     "data": {
      "text/plain": [
       "<Figure size 2880x2160 with 0 Axes>"
      ]
     },
     "metadata": {},
     "output_type": "display_data"
    },
    {
     "data": {
      "image/png": "[encoded data removed]",
      "text/plain": [
       "<Figure size 700x500 with 1 Axes>"
      ]
     },
     "metadata": {},
     "output_type": "display_data"
    },
    {
     "data": {
      "text/plain": [
       "<Figure size 2880x2160 with 0 Axes>"
      ]
     },
     "metadata": {},
     "output_type": "display_data"
    },
    {
     "data": {
      "image/png": "[encoded data removed]",
      "text/plain": [
       "<Figure size 700x500 with 1 Axes>"
      ]
     },
     "metadata": {},
     "output_type": "display_data"
    }
   ],
   "source": [
    "# -*- coding: utf-8 -*-\n",
    "import pandas as pd\n",
    "import matplotlib.pyplot as plt\n",
    "from matplotlib import rcParams\n",
    "import math\n",
    "\n",
    "df = pd.read_csv(\"car_message.csv\",encoding=\"utf-8\")\n",
    "price_arr = df['报价'][:]\n",
    "print(\"-------------------\",type(df))\n",
    "#print(df)\n",
    "#print(\"-------------------\",type(price_arr))\n",
    "#print(price_arr)\n",
    "#print(type(price_arr[4]))\n",
    "Arr01 = []\n",
    "Arr02 = []\n",
    "Arr03 = []\n",
    "Arr04 = []\n",
    "Arr05 = []\n",
    "Arr06 = []\n",
    "\n",
    "\n",
    "# 将数据分到相应的区间\n",
    "for i in price_arr:\n",
    "    if math.isnan(i):\n",
    "        continue  # 跳过nan值\n",
    "    else:\n",
    "        if 0<i and i<= 10:\n",
    "            Arr01.append(i)\n",
    "        elif 10<i and i<= 20:\n",
    "            Arr02.append(i)\n",
    "        elif 20<i and i<= 30:\n",
    "            Arr03.append(i)\n",
    "        elif 30<i and i<= 50:\n",
    "            Arr04.append(i)\n",
    "        elif 50<i and i<= 100:\n",
    "            Arr05.append(i)\n",
    "        else:\n",
    "            Arr06.append(i)\n",
    "\n",
    "print(f\"Arr01 contains {len(Arr01)} items\")\n",
    "print(f\"Arr02 contains {len(Arr02)} items\")\n",
    "print(f\"Arr03 contains {len(Arr03)} items\")\n",
    "print(f\"Arr04 contains {len(Arr04)} items\")\n",
    "print(f\"Arr05 contains {len(Arr05)} items\")\n",
    "print(f\"Arr06 contains {len(Arr06)} items\")\n",
    "\n",
    "rcParams['font.sans-serif'] = ['SimHei']\n",
    "arr = [Arr01,Arr02,Arr03,Arr04,Arr05]\n",
    "plt.figure(dpi=450)\n",
    "plt.figure(figsize=(7,5))\n",
    "plt.title('报价箱线图，低于百万（单位：万元)')\n",
    "plt.boxplot(arr)\n",
    "plt.savefig('boxplot_lower.png')\n",
    "plt.show()\n",
    "\n",
    "arr = [Arr06]\n",
    "plt.figure(dpi=450)\n",
    "plt.figure(figsize=(7,5))\n",
    "plt.title('报价箱线图，高于百万（单位：万元)')\n",
    "plt.boxplot(arr)\n",
    "plt.savefig('boxplot_higher.png')\n",
    "plt.show()\n",
    "     "
   ]
  },
  {
   "cell_type": "markdown",
   "metadata": {},
   "source": [
    "### （三）绘制圆饼图"
   ]
  },
  {
   "cell_type": "code",
   "execution_count": 9,
   "metadata": {},
   "outputs": [
    {
     "name": "stderr",
     "output_type": "stream",
     "text": [
      "C:\\Users\\86187\\AppData\\Local\\Temp\\ipykernel_17616\\2430922798.py:10: FutureWarning: The default of observed=False is deprecated and will be changed to True in a future version of pandas. Pass observed=False to retain current behavior or observed=True to adopt the future default and silence this warning.\n",
      "  grouped = df.groupby('报价区间').size()\n",
      "No artists with labels found to put in legend.  Note that artists whose label start with an underscore are ignored when legend() is called with no argument.\n"
     ]
    },
    {
     "name": "stdout",
     "output_type": "stream",
     "text": [
      "报价区间\n",
      "0-10      1022\n",
      "10-20     1337\n",
      "20-30      915\n",
      "30-50      801\n",
      "50-100     750\n",
      "100万以上     506\n",
      "dtype: int64\n",
      "[1022 1337  915  801  750  506]\n"
     ]
    },
    {
     "data": {
      "image/png": "[encoded data removed]",
      "text/plain": [
       "<Figure size 640x480 with 1 Axes>"
      ]
     },
     "metadata": {},
     "output_type": "display_data"
    }
   ],
   "source": [
    "# -*- coding: utf-8 -*-\n",
    "import pandas as pd\n",
    "import matplotlib.pyplot as plt\n",
    "from matplotlib import rcParams\n",
    "\n",
    "df = pd.read_csv(\"car_message.csv\",encoding=\"utf-8\")\n",
    "bins = [0,10,20,30,50,100,float(\"inf\")]\n",
    "labels = ['0-10','10-20','20-30','30-50','50-100','100万以上']\n",
    "df['报价区间'] = pd.cut(df['报价'],bins=bins,labels=labels)\n",
    "grouped = df.groupby('报价区间').size()\n",
    "print(grouped)\n",
    "arr = grouped.values\n",
    "print(arr)\n",
    "#已分理出数组元素，下面进行画图操作\n",
    "\n",
    "rcParams['font.sans-serif'] = ['SimHei']\n",
    "plt.figure(400)\n",
    "plt.title('报价分布图（单位：万元）')\n",
    "lables = ['0-10','10-20','20-30','30-50','50-100','100万以上']\n",
    "plt.legend(loc='best') \n",
    "plt.pie(arr, labels=labels, autopct='%1.1f%%',explode=[0.1,0.1,0.1,0.1,0.1,0.1])\n",
    "plt.savefig('pie.png')\n",
    "plt.show()"
   ]
  },
  {
   "cell_type": "markdown",
   "metadata": {},
   "source": [
    "### （四）特殊统计值"
   ]
  },
  {
   "cell_type": "code",
   "execution_count": 10,
   "metadata": {},
   "outputs": [
    {
     "name": "stdout",
     "output_type": "stream",
     "text": [
      "最小报价 1.0\n",
      "最大报价 1298.0\n",
      "报价均值 47.394862127180645\n",
      "报价中位数 23.58\n",
      "最小报价对应的车型为：\n",
      "明锐 2012款 1.6L 手动逸俊版 13.1 2012-09 1.0 14.87\n",
      "最高报价对应的车型为：\n",
      "幻影 2024款 长轴距版 系列II 0.01 未上牌 1298.0 1070.27\n"
     ]
    }
   ],
   "source": [
    "# -*- coding: utf-8 -*-\n",
    "import pandas as pd\n",
    "df = pd.read_csv('car_message.csv',encoding='utf-8')\n",
    "df_price = df.loc[:,'报价']\n",
    "df_price_min = df_price.min()\n",
    "df_price_max = df_price.max()\n",
    "df_price_mean = df_price.mean()\n",
    "df_price_median = df_price.median()\n",
    "print(\"最小报价\",df_price_min)\n",
    "print(\"最大报价\",df_price_max)\n",
    "print(\"报价均值\",df_price_mean)\n",
    "print(\"报价中位数\",df_price_median)\n",
    "\n",
    "selected_rows_min = df[df['报价'] == df_price_min]\n",
    "Selected_rows_min = selected_rows_min.to_string(index=False,header=False)\n",
    "print(f\"最小报价对应的车型为：\\n{Selected_rows_min}\")\n",
    "\n",
    "selected_rows_max = df[df['报价'] == df_price_max]\n",
    "Selected_rows_max = selected_rows_max.to_string(index=False,header=False)\n",
    "print(f\"最高报价对应的车型为：\\n{Selected_rows_max}\")\n"
   ]
  },
  {
   "cell_type": "markdown",
   "metadata": {},
   "source": [
    "## 三、其他"
   ]
  },
  {
   "cell_type": "markdown",
   "metadata": {},
   "source": [
    "提交作业时以文件夹压缩包的形式提交。代码的可移植性未经过检验。\n",
    "\n",
    "Python解释器版本为Python 3.12.4('base')。来自anaconda3。\n",
    "\n",
    "网站中用于数据可视化的.csv文件的创建日期为2024/7/9 13:50"
   ]
  },
  {
   "cell_type": "markdown",
   "metadata": {},
   "source": [
    "如果出现“无法从源解析导入……{package_name}”报错，尝试如下语句。"
   ]
  },
  {
   "cell_type": "code",
   "execution_count": null,
   "metadata": {},
   "outputs": [],
   "source": [
    "import subprocess\n",
    "\n",
    "# 定义要执行的命令\n",
    "command = 'pip install bs4'\n",
    "#'re','pandas'\n",
    "\n",
    "# 使用subprocess模块执行命令\n",
    "try:\n",
    "    # 执行命令，捕获输出和错误\n",
    "    result = subprocess.run(command, shell=True, check=True, stdout=subprocess.PIPE, stderr=subprocess.PIPE, text=True)\n",
    "    \n",
    "    # 输出命令执行结果\n",
    "    print(\"命令执行成功:\")\n",
    "    print(result.stdout)\n",
    "    \n",
    "except subprocess.CalledProcessError as e:\n",
    "    # 如果命令执行失败，输出错误信息\n",
    "    print(\"命令执行失败:\")\n",
    "    print(e.stderr)"
   ]
  }
 ],
 "metadata": {
  "kernelspec": {
   "display_name": "base",
   "language": "python",
   "name": "python3"
  },
  "language_info": {
   "codemirror_mode": {
    "name": "ipython",
    "version": 3
   },
   "file_extension": ".py",
   "mimetype": "text/x-python",
   "name": "python",
   "nbconvert_exporter": "python",
   "pygments_lexer": "ipython3",
   "version": "3.12.4"
  }
 },
 "nbformat": 4,
 "nbformat_minor": 2
}
